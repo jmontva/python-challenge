{
 "cells": [
  {
   "cell_type": "code",
   "execution_count": 12,
   "id": "7e761888-bc4d-480d-baee-66a1ee4e58a7",
   "metadata": {},
   "outputs": [],
   "source": [
    "import os\n",
    "import csv"
   ]
  },
  {
   "cell_type": "code",
   "execution_count": 13,
   "id": "c26077dd-2c5e-4c69-b185-342840c4e53a",
   "metadata": {},
   "outputs": [],
   "source": [
    "months = []\n",
    "profit_loss_changes = []\n",
    "\n",
    "count_months = 0\n",
    "net_profit_loss = 0\n",
    "previous_month_profit_loss = 0\n",
    "current_month_profit_loss = 0\n",
    "profit_loss_change = 0"
   ]
  },
  {
   "cell_type": "code",
   "execution_count": 14,
   "id": "1e743675-dddf-42c9-aa80-ec577dc51e1d",
   "metadata": {},
   "outputs": [],
   "source": [
    "budget_data_csv_path = os.path.join(\"PyBank\", \"Resources\", \"budget_data.csv\")"
   ]
  },
  {
   "cell_type": "code",
   "execution_count": 15,
   "id": "1ce16acd-0da1-413f-991f-3bd65381ba9c",
   "metadata": {},
   "outputs": [],
   "source": [
    "# Open and read csv\n",
    "with open(budget_data_csv_path, newline=\"\") as csvfile:\n",
    "    csv_reader = csv.reader(csvfile, delimiter=\",\")\n",
    "    csv_header = next(csvfile)\n",
    "    for row in csv_reader:\n",
    "        count_months += 1\n",
    "        current_month_profit_loss = int(row[1])\n",
    "        net_profit_loss += current_month_profit_loss\n",
    "        \n",
    "        if (count_months == 1):\n",
    "            previous_month_profit_loss = current_month_profit_loss\n",
    "            continue\n",
    "        else:\n",
    "            profit_loss_change = current_month_profit_loss - previous_month_profit_loss\n",
    "            months.append(row[0])\n",
    "            profit_loss_changes.append(profit_loss_change)\n",
    "            previous_month_profit_loss = current_month_profit_loss\n",
    "    sum_profit_loss = sum(profit_loss_changes)\n",
    "    average_profit_loss = round(sum_profit_loss/(count_months - 1), 2)\n",
    "    highest_change = max(profit_loss_changes)\n",
    "    lowest_change = min(profit_loss_changes)\n",
    "    highest_month_index = profit_loss_changes.index(highest_change)\n",
    "    lowest_month_index = profit_loss_changes.index(lowest_change)\n",
    "    best_month = months[highest_month_index]\n",
    "    worst_month = months[lowest_month_index]"
   ]
  },
  {
   "cell_type": "code",
   "execution_count": 16,
   "id": "0dc231f8-20c6-45f3-bba4-25c87a1c64e0",
   "metadata": {},
   "outputs": [
    {
     "name": "stdout",
     "output_type": "stream",
     "text": [
      "Financial Analysis\n",
      "----------------------------\n",
      "Total Months:  86\n",
      "Total:  $38382578\n",
      "Average Change:  $-2315.12\n",
      "Greatest Increase in Profits:  Feb-2012 ($1926159)\n",
      "Greatest Decrease in Losses:  Sep-2013 ($-2196167)\n"
     ]
    }
   ],
   "source": [
    "print(\"Financial Analysis\")\n",
    "print(\"----------------------------\")\n",
    "print(f\"Total Months:  {count_months}\")\n",
    "print(f\"Total:  ${net_profit_loss}\")\n",
    "print(f\"Average Change:  ${average_profit_loss}\")\n",
    "print(f\"Greatest Increase in Profits:  {best_month} (${highest_change})\")\n",
    "print(f\"Greatest Decrease in Losses:  {worst_month} (${lowest_change})\")\n",
    "budget_file = os.path.join(\"PyBank\", \"Resources\", \"budget_data.txt\")\n",
    "with open(budget_file, \"w\") as outfile:\n",
    "\n",
    "    outfile.write(\"Financial Analysis\\n\")\n",
    "    outfile.write(\"----------------------------\\n\")\n",
    "    outfile.write(f\"Total Months:  {count_months}\\n\")\n",
    "    outfile.write(f\"Total:  ${net_profit_loss}\\n\")\n",
    "    outfile.write(f\"Average Change:  ${average_profit_loss}\\n\")\n",
    "    outfile.write(f\"Greatest Increase in Profits:  {best_month} (${highest_change})\\n\")\n",
    "    outfile.write(f\"Greatest Decrease in Losses:  {worst_month} (${lowest_change})\\n\")"
   ]
  }
 ],
 "metadata": {
  "kernelspec": {
   "display_name": "Python 3 (ipykernel)",
   "language": "python",
   "name": "python3"
  },
  "language_info": {
   "codemirror_mode": {
    "name": "ipython",
    "version": 3
   },
   "file_extension": ".py",
   "mimetype": "text/x-python",
   "name": "python",
   "nbconvert_exporter": "python",
   "pygments_lexer": "ipython3",
   "version": "3.10.11"
  }
 },
 "nbformat": 4,
 "nbformat_minor": 5
}
